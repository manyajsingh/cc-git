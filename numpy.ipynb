{
  "nbformat": 4,
  "nbformat_minor": 0,
  "metadata": {
    "colab": {
      "provenance": [],
      "authorship_tag": "ABX9TyMheIhs7Ae+h2abZg07hEs5",
      "include_colab_link": true
    },
    "kernelspec": {
      "name": "python3",
      "display_name": "Python 3"
    },
    "language_info": {
      "name": "python"
    }
  },
  "cells": [
    {
      "cell_type": "markdown",
      "metadata": {
        "id": "view-in-github",
        "colab_type": "text"
      },
      "source": [
        "<a href=\"https://colab.research.google.com/github/manyajsingh/MachineLearning/blob/Personal_ML/numpy.ipynb\" target=\"_parent\"><img src=\"https://colab.research.google.com/assets/colab-badge.svg\" alt=\"Open In Colab\"/></a>"
      ]
    },
    {
      "cell_type": "code",
      "execution_count": null,
      "metadata": {
        "colab": {
          "base_uri": "https://localhost:8080/"
        },
        "id": "Obzsgt_E4AIi",
        "outputId": "bbf9abd4-02ef-47c7-e393-eba34a4cc452"
      },
      "outputs": [
        {
          "output_type": "stream",
          "name": "stdout",
          "text": [
            "(6,)\n",
            "[0 1 2 3 4 5 6 7 8 9]\n",
            "[-9 -7 -5 -3 -1]\n",
            "[0. 0. 0. 0. 0.]\n",
            "[[0. 0. 0. 0. 0. 0. 0. 0. 0. 0.]\n",
            " [0. 0. 0. 0. 0. 0. 0. 0. 0. 0.]]\n",
            "[6 6 6 6 6 6 6 6 6 6]\n",
            "[[6 6 6 6 6 6 6 6 6 6]\n",
            " [6 6 6 6 6 6 6 6 6 6]]\n",
            "[1 2 3 4 5 6 7]\n",
            "[1 3]\n",
            "[0 2 4 6 8]\n",
            "33\n",
            "[[ 2  3]\n",
            " [22 33]]\n",
            "[       nan        nan        nan        nan 0.         1.\n",
            " 1.41421356 1.73205081 2.        ]\n",
            "[4 3 2 1 0 1 2 3 4]\n",
            "[  1.           2.71828183   7.3890561   20.08553692  54.59815003\n",
            " 148.4131591 ]\n",
            "4\n",
            "-4\n",
            "[-1 -1 -1 -1  0  1  1  1  1]\n"
          ]
        },
        {
          "output_type": "stream",
          "name": "stderr",
          "text": [
            "<ipython-input-34-3a9102880505>:39: RuntimeWarning: invalid value encountered in sqrt\n",
            "  np11= np.sqrt(np10)\n"
          ]
        }
      ],
      "source": [
        "# numpy- numeric python\n",
        "# ndarray- n dimensional array\n",
        "# arrays can be sliced like basic lists\n",
        "import numpy as np\n",
        "np1= np.array([0,1,2,3,4,5])\n",
        "print(np1.shape) #(6,) is returned as a single element tuple\n",
        "\n",
        "np2= np.arange(10)\n",
        "print(np2)\n",
        "\n",
        "np3=np.arange(-9,0,2)\n",
        "print(np3)\n",
        "\n",
        "np4=np.zeros(5)\n",
        "print(np4)\n",
        "\n",
        "np5=np.zeros((2,10)) # a 2 dimensional array with each array consisting of 10 zeroes\n",
        "print(np5)\n",
        "\n",
        "np6= np.full((10), 6) # 10 numbers of 6 in an array\n",
        "print(np6)\n",
        "\n",
        "np7=np.full((2,10),6) # 2d array with 10 elements, each element being 6\n",
        "print(np7)\n",
        "\n",
        "l=[1,2,3,4,5,6,7]\n",
        "np8= np.array(l)\n",
        "print(np8) # to convert a list to an array\n",
        "\n",
        "print(np2[1:5:2])\n",
        "print(np2[::2])\n",
        "\n",
        "np9=np.array([[1,2,3,4,5], [11,22,33,44,55], [111,222,333,444,555]])\n",
        "print(np9[1,2]) # to access the np9[1][2] element\n",
        "print(np9[0:2, 1:3]) # the first argument specifies the slicing of the number of arrays to  be dealt with\n",
        "                     # the second argument specifies the slicing within each individual list and will be applied to all the arrays mentioned in the first argument\n",
        "\n",
        "np10=np.array([-4,-3,-2,-1,0,1,2,3,4])\n",
        "np11= np.sqrt(np10)\n",
        "print(np11)\n",
        "print(np.absolute(np10)) # prints the mod of all elements\n",
        "print(np.exp(np1))\n",
        "print(np.max(np10))\n",
        "print(np.min(np10))\n",
        "print(np.sign(np10)) # works like signum function (returns -1 for all -ve, 0 for 0, 1 for all +ve)\n",
        "                     # sin cos tan log can also be performed for all elements in the array (np.sin(np1))\n"
      ]
    },
    {
      "cell_type": "code",
      "source": [
        "import numpy as np\n",
        "np1= np.array([1,2,3,4,5])\n",
        "np2= np1.view()\n",
        "np3=np1.copy()\n",
        "np4=np2.copy()\n",
        "print(f'original np1 {np1}') # f means formatted string literals\n",
        "print(f'original np2 {np2}')\n",
        "print(f'original np3 {np3}')\n",
        "print(f'original np4 {np4}')\n",
        "\n",
        "np2[0]=41\n",
        "\n",
        "print(f'original np1 {np1}')\n",
        "print(f'original np2 {np2}') # whenever we change the original, the view gets changed too\n",
        "                             # main difference between copy and view\n",
        "                             # changes made to view are also reflected in original\n",
        "                             # connected in both ways\n",
        "print(f'original np3 {np3}')\n",
        "print(f'original np4 {np4}')"
      ],
      "metadata": {
        "colab": {
          "base_uri": "https://localhost:8080/"
        },
        "id": "17ceFEJmUnvc",
        "outputId": "168177f3-b6de-425b-c976-bd6e18a06f2c"
      },
      "execution_count": null,
      "outputs": [
        {
          "output_type": "stream",
          "name": "stdout",
          "text": [
            "original np1 [1 2 3 4 5]\n",
            "original np2 [1 2 3 4 5]\n",
            "original np3 [1 2 3 4 5]\n",
            "original np4 [1 2 3 4 5]\n",
            "original np1 [41  2  3  4  5]\n",
            "original np2 [41  2  3  4  5]\n",
            "original np3 [1 2 3 4 5]\n",
            "original np4 [1 2 3 4 5]\n"
          ]
        }
      ]
    },
    {
      "cell_type": "code",
      "source": [
        "import numpy as np\n",
        "np1=np.array([1,2,3,4,5,6,7,8,9,10,11,12])\n",
        "print(np1)\n",
        "print(np1.shape)\n",
        "np2=np.array([[1,2,3,4,5], [11,22,33,44,55]])\n",
        "print(np2)\n",
        "print(np2.shape) # will return dimensions and the number of elements per dimension respectively\n",
        "\n",
        "# to reshape 2D\n",
        "np3=np1.reshape(3,4)\n",
        "print(np3)\n",
        " # to reshape 3D\n",
        "np4=np1.reshape(2,3,2)\n",
        "print(np4)\n",
        "\n",
        "# np4=np1.reshape(2,2,2)\n",
        "# print(np4) would have generated an error as the same number of elements need to be readjusted\n",
        "\n",
        "np5=np4.reshape(-1) # will reshape the array back to a 1D array\n",
        "print(np5)\n",
        "#PS- if the number of total elements are known, reshaping can also be done using the following command\n",
        "#np5= np4.reshape(total number of elements), in this case,12"
      ],
      "metadata": {
        "colab": {
          "base_uri": "https://localhost:8080/"
        },
        "id": "7WoLGxM6YXeD",
        "outputId": "f3c80cd7-71c1-4f8a-d2cf-f0fb472259b7"
      },
      "execution_count": null,
      "outputs": [
        {
          "output_type": "stream",
          "name": "stdout",
          "text": [
            "[ 1  2  3  4  5  6  7  8  9 10 11 12]\n",
            "(12,)\n",
            "[[ 1  2  3  4  5]\n",
            " [11 22 33 44 55]]\n",
            "(2, 5)\n",
            "[[ 1  2  3  4]\n",
            " [ 5  6  7  8]\n",
            " [ 9 10 11 12]]\n",
            "[[[ 1  2]\n",
            "  [ 3  4]\n",
            "  [ 5  6]]\n",
            "\n",
            " [[ 7  8]\n",
            "  [ 9 10]\n",
            "  [11 12]]]\n",
            "[ 1  2  3  4  5  6  7  8  9 10 11 12]\n"
          ]
        }
      ]
    },
    {
      "cell_type": "code",
      "source": [
        "import numpy as np\n",
        "np3=np.array([[[1,2,3],[4,5,6]],[[7,8,9],[10,11,12]]])\n",
        "print(np3.shape)\n",
        "for i in np3:\n",
        "  print(i)\n",
        "  for j in i:\n",
        "    print(j)\n",
        "    for k in j:\n",
        "      print(k)\n",
        "# dimension of array= number of for loops required to access each individual element\n",
        "# short cut:\n",
        "for i in np.nditer(np3):\n",
        "  print(i)"
      ],
      "metadata": {
        "colab": {
          "base_uri": "https://localhost:8080/"
        },
        "id": "ruvghFQCfJ-r",
        "outputId": "93eee5d0-c16e-414e-a0b9-36dcb16db37d"
      },
      "execution_count": null,
      "outputs": [
        {
          "output_type": "stream",
          "name": "stdout",
          "text": [
            "(2, 2, 3)\n",
            "[[1 2 3]\n",
            " [4 5 6]]\n",
            "[1 2 3]\n",
            "1\n",
            "2\n",
            "3\n",
            "[4 5 6]\n",
            "4\n",
            "5\n",
            "6\n",
            "[[ 7  8  9]\n",
            " [10 11 12]]\n",
            "[7 8 9]\n",
            "7\n",
            "8\n",
            "9\n",
            "[10 11 12]\n",
            "10\n",
            "11\n",
            "12\n",
            "1\n",
            "2\n",
            "3\n",
            "4\n",
            "5\n",
            "6\n",
            "7\n",
            "8\n",
            "9\n",
            "10\n",
            "11\n",
            "12\n"
          ]
        }
      ]
    },
    {
      "cell_type": "code",
      "source": [
        "import numpy as np\n",
        "np1=np.array([6,7,4,9,0,22,3])\n",
        "print(np.sort(np1)) # this comment cannot be given in a single line in the case og a list. will return None\n",
        "np2=np.array([\"John\", \"Tina\", \"Aaron\", \"Zed\"])\n",
        "print(np.sort(np2))\n",
        "np3=np.array([True, False, False, True])\n",
        "print(np.sort(np3)) # when we sort, we only change the copy. not the original at all\n",
        "np4=np.array([[6,7,1,9], [3,5,0,-6]])\n",
        "print(np.sort(np4)) # sorts the mini arrays within themselves but does not change their indexing"
      ],
      "metadata": {
        "colab": {
          "base_uri": "https://localhost:8080/"
        },
        "id": "_adc_TbMi3yk",
        "outputId": "d2e00723-c5b3-4e1c-b575-3e38a5cad510"
      },
      "execution_count": null,
      "outputs": [
        {
          "output_type": "stream",
          "name": "stdout",
          "text": [
            "[ 0  3  4  6  7  9 22]\n",
            "['Aaron' 'John' 'Tina' 'Zed']\n",
            "[False False  True  True]\n",
            "[[ 1  6  7  9]\n",
            " [-6  0  3  5]]\n"
          ]
        }
      ]
    },
    {
      "cell_type": "code",
      "source": [
        "l1=[1,33,2,23,3,-22]\n",
        "l1.sort()\n",
        "print(l1)\n",
        "l2=[[23,2,11,876,-66],[34,332,3,-766,877]]\n",
        "l2.sort()\n",
        "print(l2) # sorts the nested lists only by the first element, changes the index of the nested lists if needed"
      ],
      "metadata": {
        "colab": {
          "base_uri": "https://localhost:8080/"
        },
        "id": "zWxS_1dsjLiS",
        "outputId": "fad403ae-1935-43ea-dc51-b13a1d9052c9"
      },
      "execution_count": null,
      "outputs": [
        {
          "output_type": "stream",
          "name": "stdout",
          "text": [
            "[-22, 1, 2, 3, 23, 33]\n",
            "[[23, 2, 11, 876, -66], [34, 332, 3, -766, 877]]\n"
          ]
        }
      ]
    },
    {
      "cell_type": "code",
      "source": [
        "import numpy as np\n",
        "np1=np.array([1,2,3,4,5,6,7,8,9,10,3,13])\n",
        "x=np.where(np1==3)\n",
        "print(x) # will return a tuple of the index of wherever the element 3 is present\n",
        "print(x[0]) # will simply return the index of wherever the element is present\n",
        "print(np1[x[0]])\n",
        "print(np1[x])\n",
        "y=np.where(np1%2==0) # will return the index of wherever an even number is present\n",
        "print(y[0])"
      ],
      "metadata": {
        "colab": {
          "base_uri": "https://localhost:8080/"
        },
        "id": "_PLHKV8ImPxK",
        "outputId": "75b26a20-09d3-4736-8ac3-11cd09f452dc"
      },
      "execution_count": null,
      "outputs": [
        {
          "output_type": "stream",
          "name": "stdout",
          "text": [
            "(array([ 2, 10]),)\n",
            "[ 2 10]\n",
            "[3 3]\n",
            "[3 3]\n",
            "[1 3 5 7 9]\n"
          ]
        }
      ]
    },
    {
      "cell_type": "code",
      "source": [
        "import numpy as np\n",
        "np1= np.array([11,12,3,4,5])\n",
        "x=[True, True, False, False, False]\n",
        "print(np1[x]) # to filter out np1 according to x (returns the elements, not the indices)\n",
        "#alternative:\n",
        "filterodd=[]\n",
        "for i in np1:\n",
        "  if i%2 !=0:\n",
        "    filterodd.append(True)\n",
        "  else:\n",
        "    filterodd.append(False)\n",
        "print(np1)\n",
        "print(filterodd)\n",
        "print(np1[filterodd])\n",
        "#shortcut:\n",
        "filtereven=(np1%2==0)\n",
        "print(np1[filtereven])"
      ],
      "metadata": {
        "colab": {
          "base_uri": "https://localhost:8080/"
        },
        "id": "BjvOD0rLoDu_",
        "outputId": "175010e4-2ddd-466c-88d7-44f193e84bdd"
      },
      "execution_count": null,
      "outputs": [
        {
          "output_type": "stream",
          "name": "stdout",
          "text": [
            "[11 12]\n",
            "[11 12  3  4  5]\n",
            "[True, False, True, False, True]\n",
            "[11  3  5]\n",
            "[12  4]\n"
          ]
        }
      ]
    }
  ]
}